{
 "metadata": {
  "name": "",
  "signature": "sha256:eb842e7cf7d0471e541a9a9f4d36a2609e54c3efb24dfe6ba5ef6ded5776dce2"
 },
 "nbformat": 3,
 "nbformat_minor": 0,
 "worksheets": []
}